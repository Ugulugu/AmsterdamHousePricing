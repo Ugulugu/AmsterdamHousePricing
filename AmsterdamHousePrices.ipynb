{
 "cells": [
  {
   "cell_type": "code",
   "execution_count": 1,
   "id": "48c85b00-6089-4be9-a401-362824518e98",
   "metadata": {},
   "outputs": [],
   "source": [
    "# import alle necessary libraries\n",
    "import pandas as pd \n",
    "import matplotlib.pyplot as plt "
   ]
  },
  {
   "cell_type": "code",
   "execution_count": 13,
   "id": "925efb45-ea22-4552-95ec-76e3c7a76458",
   "metadata": {},
   "outputs": [
    {
     "name": "stdout",
     "output_type": "stream",
     "text": [
      "The Dataset has 924 rows and 7 columns\n"
     ]
    },
    {
     "data": {
      "text/html": [
       "<div>\n",
       "<style scoped>\n",
       "    .dataframe tbody tr th:only-of-type {\n",
       "        vertical-align: middle;\n",
       "    }\n",
       "\n",
       "    .dataframe tbody tr th {\n",
       "        vertical-align: top;\n",
       "    }\n",
       "\n",
       "    .dataframe thead th {\n",
       "        text-align: right;\n",
       "    }\n",
       "</style>\n",
       "<table border=\"1\" class=\"dataframe\">\n",
       "  <thead>\n",
       "    <tr style=\"text-align: right;\">\n",
       "      <th></th>\n",
       "      <th>Address</th>\n",
       "      <th>Zip</th>\n",
       "      <th>Price</th>\n",
       "      <th>Area</th>\n",
       "      <th>Room</th>\n",
       "      <th>Lon</th>\n",
       "      <th>Lat</th>\n",
       "    </tr>\n",
       "  </thead>\n",
       "  <tbody>\n",
       "    <tr>\n",
       "      <th>1</th>\n",
       "      <td>Blasiusstraat 8 2, Amsterdam</td>\n",
       "      <td>1091 CR</td>\n",
       "      <td>685000.0</td>\n",
       "      <td>64</td>\n",
       "      <td>3</td>\n",
       "      <td>4.907736</td>\n",
       "      <td>52.356157</td>\n",
       "    </tr>\n",
       "    <tr>\n",
       "      <th>2</th>\n",
       "      <td>Kromme Leimuidenstraat 13 H, Amsterdam</td>\n",
       "      <td>1059 EL</td>\n",
       "      <td>475000.0</td>\n",
       "      <td>60</td>\n",
       "      <td>3</td>\n",
       "      <td>4.850476</td>\n",
       "      <td>52.348586</td>\n",
       "    </tr>\n",
       "    <tr>\n",
       "      <th>3</th>\n",
       "      <td>Zaaiersweg 11 A, Amsterdam</td>\n",
       "      <td>1097 SM</td>\n",
       "      <td>850000.0</td>\n",
       "      <td>109</td>\n",
       "      <td>4</td>\n",
       "      <td>4.944774</td>\n",
       "      <td>52.343782</td>\n",
       "    </tr>\n",
       "    <tr>\n",
       "      <th>4</th>\n",
       "      <td>Tenerifestraat 40, Amsterdam</td>\n",
       "      <td>1060 TH</td>\n",
       "      <td>580000.0</td>\n",
       "      <td>128</td>\n",
       "      <td>6</td>\n",
       "      <td>4.789928</td>\n",
       "      <td>52.343712</td>\n",
       "    </tr>\n",
       "    <tr>\n",
       "      <th>5</th>\n",
       "      <td>Winterjanpad 21, Amsterdam</td>\n",
       "      <td>1036 KN</td>\n",
       "      <td>720000.0</td>\n",
       "      <td>138</td>\n",
       "      <td>5</td>\n",
       "      <td>4.902503</td>\n",
       "      <td>52.410538</td>\n",
       "    </tr>\n",
       "  </tbody>\n",
       "</table>\n",
       "</div>"
      ],
      "text/plain": [
       "                                  Address      Zip     Price  Area  Room  \\\n",
       "1            Blasiusstraat 8 2, Amsterdam  1091 CR  685000.0    64     3   \n",
       "2  Kromme Leimuidenstraat 13 H, Amsterdam  1059 EL  475000.0    60     3   \n",
       "3              Zaaiersweg 11 A, Amsterdam  1097 SM  850000.0   109     4   \n",
       "4            Tenerifestraat 40, Amsterdam  1060 TH  580000.0   128     6   \n",
       "5              Winterjanpad 21, Amsterdam  1036 KN  720000.0   138     5   \n",
       "\n",
       "        Lon        Lat  \n",
       "1  4.907736  52.356157  \n",
       "2  4.850476  52.348586  \n",
       "3  4.944774  52.343782  \n",
       "4  4.789928  52.343712  \n",
       "5  4.902503  52.410538  "
      ]
     },
     "execution_count": 13,
     "metadata": {},
     "output_type": "execute_result"
    }
   ],
   "source": [
    "# import the data and set the first column to the index-column\n",
    "data = pd.read_csv('HousingPrices-Amsterdam-August-2021.csv', thousands=r',',index_col=0)\n",
    "\n",
    "# shape of the Dataframe\n",
    "shape = data.shape\n",
    "print(f'The Dataset has {data.shape[0]} rows and {data.shape[1]} columns') \n",
    "\n",
    "# display first five rows \n",
    "data.head()"
   ]
  },
  {
   "cell_type": "code",
   "execution_count": 46,
   "id": "bcaca4b8-16bf-41f5-a41a-4f5ce0aa3c3f",
   "metadata": {},
   "outputs": [
    {
     "name": "stdout",
     "output_type": "stream",
     "text": [
      "There are 0 missing values in the Dataframe!\n",
      "\n",
      "Index(['Address', 'Zip', 'Price', 'Area', 'Room', 'Lon', 'Lat', 'PriceQm'], dtype='object')\n",
      "Column Address has 0 missing values\n",
      "Column Zip has 0 missing values\n",
      "Column Price has 0 missing values\n",
      "Column Area has 0 missing values\n",
      "Column Room has 0 missing values\n",
      "Column Lon has 0 missing values\n",
      "Column Lat has 0 missing values\n",
      "Column PriceQm has 0 missing values\n"
     ]
    }
   ],
   "source": [
    "# check for nan-values in the whole dataframe\n",
    "missing_values = data.isnull().sum().sum()\n",
    "print('There are %s missing values in the Dataframe!' %(missing_values))\n",
    "print()\n",
    "      \n",
    "\n",
    "# check for nan in all coloumns\n",
    "cols = data.columns\n",
    "print(cols)\n",
    "\n",
    "for col in cols:\n",
    "    temp = data[col].isnull().values.sum()\n",
    "    print(f'Column {col} has {temp} missing values')"
   ]
  },
  {
   "cell_type": "code",
   "execution_count": 21,
   "id": "3291201b-9c26-4df9-9ce3-f68e16918058",
   "metadata": {},
   "outputs": [
    {
     "data": {
      "text/html": [
       "<div>\n",
       "<style scoped>\n",
       "    .dataframe tbody tr th:only-of-type {\n",
       "        vertical-align: middle;\n",
       "    }\n",
       "\n",
       "    .dataframe tbody tr th {\n",
       "        vertical-align: top;\n",
       "    }\n",
       "\n",
       "    .dataframe thead th {\n",
       "        text-align: right;\n",
       "    }\n",
       "</style>\n",
       "<table border=\"1\" class=\"dataframe\">\n",
       "  <thead>\n",
       "    <tr style=\"text-align: right;\">\n",
       "      <th></th>\n",
       "      <th>Address</th>\n",
       "      <th>Zip</th>\n",
       "      <th>Price</th>\n",
       "      <th>Area</th>\n",
       "      <th>Room</th>\n",
       "      <th>Lon</th>\n",
       "      <th>Lat</th>\n",
       "    </tr>\n",
       "  </thead>\n",
       "  <tbody>\n",
       "    <tr>\n",
       "      <th>1</th>\n",
       "      <td>Blasiusstraat 8 2, Amsterdam</td>\n",
       "      <td>1091 CR</td>\n",
       "      <td>685000.0</td>\n",
       "      <td>64</td>\n",
       "      <td>3</td>\n",
       "      <td>4.907736</td>\n",
       "      <td>52.356157</td>\n",
       "    </tr>\n",
       "    <tr>\n",
       "      <th>2</th>\n",
       "      <td>Kromme Leimuidenstraat 13 H, Amsterdam</td>\n",
       "      <td>1059 EL</td>\n",
       "      <td>475000.0</td>\n",
       "      <td>60</td>\n",
       "      <td>3</td>\n",
       "      <td>4.850476</td>\n",
       "      <td>52.348586</td>\n",
       "    </tr>\n",
       "    <tr>\n",
       "      <th>3</th>\n",
       "      <td>Zaaiersweg 11 A, Amsterdam</td>\n",
       "      <td>1097 SM</td>\n",
       "      <td>850000.0</td>\n",
       "      <td>109</td>\n",
       "      <td>4</td>\n",
       "      <td>4.944774</td>\n",
       "      <td>52.343782</td>\n",
       "    </tr>\n",
       "    <tr>\n",
       "      <th>4</th>\n",
       "      <td>Tenerifestraat 40, Amsterdam</td>\n",
       "      <td>1060 TH</td>\n",
       "      <td>580000.0</td>\n",
       "      <td>128</td>\n",
       "      <td>6</td>\n",
       "      <td>4.789928</td>\n",
       "      <td>52.343712</td>\n",
       "    </tr>\n",
       "    <tr>\n",
       "      <th>5</th>\n",
       "      <td>Winterjanpad 21, Amsterdam</td>\n",
       "      <td>1036 KN</td>\n",
       "      <td>720000.0</td>\n",
       "      <td>138</td>\n",
       "      <td>5</td>\n",
       "      <td>4.902503</td>\n",
       "      <td>52.410538</td>\n",
       "    </tr>\n",
       "    <tr>\n",
       "      <th>...</th>\n",
       "      <td>...</td>\n",
       "      <td>...</td>\n",
       "      <td>...</td>\n",
       "      <td>...</td>\n",
       "      <td>...</td>\n",
       "      <td>...</td>\n",
       "      <td>...</td>\n",
       "    </tr>\n",
       "    <tr>\n",
       "      <th>920</th>\n",
       "      <td>Ringdijk, Amsterdam</td>\n",
       "      <td>1097 AE</td>\n",
       "      <td>750000.0</td>\n",
       "      <td>117</td>\n",
       "      <td>1</td>\n",
       "      <td>4.927757</td>\n",
       "      <td>52.354173</td>\n",
       "    </tr>\n",
       "    <tr>\n",
       "      <th>921</th>\n",
       "      <td>Kleine Beerstraat 31, Amsterdam</td>\n",
       "      <td>1033 CP</td>\n",
       "      <td>350000.0</td>\n",
       "      <td>72</td>\n",
       "      <td>3</td>\n",
       "      <td>4.890612</td>\n",
       "      <td>52.414587</td>\n",
       "    </tr>\n",
       "    <tr>\n",
       "      <th>922</th>\n",
       "      <td>Stuyvesantstraat 33 II, Amsterdam</td>\n",
       "      <td>1058 AK</td>\n",
       "      <td>350000.0</td>\n",
       "      <td>51</td>\n",
       "      <td>3</td>\n",
       "      <td>4.856935</td>\n",
       "      <td>52.363256</td>\n",
       "    </tr>\n",
       "    <tr>\n",
       "      <th>923</th>\n",
       "      <td>John Blankensteinstraat 51, Amsterdam</td>\n",
       "      <td>1095 MB</td>\n",
       "      <td>599000.0</td>\n",
       "      <td>113</td>\n",
       "      <td>4</td>\n",
       "      <td>4.965731</td>\n",
       "      <td>52.375268</td>\n",
       "    </tr>\n",
       "    <tr>\n",
       "      <th>924</th>\n",
       "      <td>S. F. van Ossstraat 334, Amsterdam</td>\n",
       "      <td>1068 JS</td>\n",
       "      <td>300000.0</td>\n",
       "      <td>79</td>\n",
       "      <td>4</td>\n",
       "      <td>4.810678</td>\n",
       "      <td>52.355493</td>\n",
       "    </tr>\n",
       "  </tbody>\n",
       "</table>\n",
       "<p>920 rows × 7 columns</p>\n",
       "</div>"
      ],
      "text/plain": [
       "                                    Address      Zip     Price  Area  Room  \\\n",
       "1              Blasiusstraat 8 2, Amsterdam  1091 CR  685000.0    64     3   \n",
       "2    Kromme Leimuidenstraat 13 H, Amsterdam  1059 EL  475000.0    60     3   \n",
       "3                Zaaiersweg 11 A, Amsterdam  1097 SM  850000.0   109     4   \n",
       "4              Tenerifestraat 40, Amsterdam  1060 TH  580000.0   128     6   \n",
       "5                Winterjanpad 21, Amsterdam  1036 KN  720000.0   138     5   \n",
       "..                                      ...      ...       ...   ...   ...   \n",
       "920                     Ringdijk, Amsterdam  1097 AE  750000.0   117     1   \n",
       "921         Kleine Beerstraat 31, Amsterdam  1033 CP  350000.0    72     3   \n",
       "922       Stuyvesantstraat 33 II, Amsterdam  1058 AK  350000.0    51     3   \n",
       "923   John Blankensteinstraat 51, Amsterdam  1095 MB  599000.0   113     4   \n",
       "924      S. F. van Ossstraat 334, Amsterdam  1068 JS  300000.0    79     4   \n",
       "\n",
       "          Lon        Lat  \n",
       "1    4.907736  52.356157  \n",
       "2    4.850476  52.348586  \n",
       "3    4.944774  52.343782  \n",
       "4    4.789928  52.343712  \n",
       "5    4.902503  52.410538  \n",
       "..        ...        ...  \n",
       "920  4.927757  52.354173  \n",
       "921  4.890612  52.414587  \n",
       "922  4.856935  52.363256  \n",
       "923  4.965731  52.375268  \n",
       "924  4.810678  52.355493  \n",
       "\n",
       "[920 rows x 7 columns]"
      ]
     },
     "execution_count": 21,
     "metadata": {},
     "output_type": "execute_result"
    }
   ],
   "source": [
    "# drop rows where at least on value is missing\n",
    "data.dropna()"
   ]
  },
  {
   "cell_type": "code",
   "execution_count": 37,
   "id": "4c97707e-ae83-495b-96a4-8079e78a046a",
   "metadata": {},
   "outputs": [],
   "source": [
    "# add a new column 'PriceQm' which represents the price per squaremeter and round for two decimals\n",
    "data['PriceQm'] = data.Price / data.Area\n",
    "data['PriceQm'] = data['PriceQm'].round(2)\n"
   ]
  },
  {
   "cell_type": "code",
   "execution_count": 63,
   "id": "dc6a1b3d-6e10-421b-b1ce-69f0834317b8",
   "metadata": {},
   "outputs": [
    {
     "data": {
      "text/plain": [
       "<AxesSubplot:xlabel='Room'>"
      ]
     },
     "execution_count": 63,
     "metadata": {},
     "output_type": "execute_result"
    },
    {
     "data": {
      "image/png": "[encoded data removed]",
      "text/plain": [
       "<Figure size 432x288 with 1 Axes>"
      ]
     },
     "metadata": {
      "needs_background": "light"
     },
     "output_type": "display_data"
    }
   ],
   "source": [
    "# see the \n",
    "bla = data.groupby('Room').PriceQm.mean()\n",
    "bla.plot.bar()"
   ]
  },
  {
   "cell_type": "code",
   "execution_count": 68,
   "id": "8afdd48a-a652-4d31-9ac7-eb9a22d1ae02",
   "metadata": {},
   "outputs": [
    {
     "data": {
      "text/plain": [
       "<AxesSubplot:xlabel='Room'>"
      ]
     },
     "execution_count": 68,
     "metadata": {},
     "output_type": "execute_result"
    },
    {
     "data": {
      "image/png": "[encoded data removed]",
      "text/plain": [
       "<Figure size 432x288 with 1 Axes>"
      ]
     },
     "metadata": {
      "needs_background": "light"
     },
     "output_type": "display_data"
    }
   ],
   "source": [
    "bla = data.groupby('Room').size()\n",
    "bla.plot.bar()"
   ]
  }
 ],
 "metadata": {
  "kernelspec": {
   "display_name": "Python 3 (ipykernel)",
   "language": "python",
   "name": "python3"
  },
  "language_info": {
   "codemirror_mode": {
    "name": "ipython",
    "version": 3
   },
   "file_extension": ".py",
   "mimetype": "text/x-python",
   "name": "python",
   "nbconvert_exporter": "python",
   "pygments_lexer": "ipython3",
   "version": "3.8.12"
  }
 },
 "nbformat": 4,
 "nbformat_minor": 5
}
